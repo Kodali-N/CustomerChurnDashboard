{
 "cells": [
  {
   "cell_type": "code",
   "execution_count": null,
   "id": "20b77334",
   "metadata": {},
   "outputs": [],
   "source": [
    "import numpy as np\n",
    "import pandas as pd\n",
    "import seaborn as sns\n",
    "import matplotlib.ticker as mtick\n",
    "import matplotlib.pyplot as plt\n",
    "%matplotlib inline"
   ]
  },
  {
   "cell_type": "code",
   "execution_count": null,
   "id": "838cd87d",
   "metadata": {},
   "outputs": [],
   "source": [
    "!pip install seaborn"
   ]
  },
  {
   "cell_type": "code",
   "execution_count": null,
   "id": "e12b1243",
   "metadata": {},
   "outputs": [],
   "source": [
    "df = pd.read_csv('Telco-Customer-Churn.csv')\n",
    "df.head()"
   ]
  },
  {
   "cell_type": "code",
   "execution_count": null,
   "id": "b58e1b63",
   "metadata": {},
   "outputs": [],
   "source": [
    "df.shape"
   ]
  },
  {
   "cell_type": "code",
   "execution_count": null,
   "id": "5d3d0a11",
   "metadata": {},
   "outputs": [],
   "source": [
    "df.info(verbose = True)"
   ]
  },
  {
   "cell_type": "code",
   "execution_count": null,
   "id": "31992c69",
   "metadata": {},
   "outputs": [],
   "source": [
    "df.describe()"
   ]
  },
  {
   "cell_type": "markdown",
   "id": "c8c29cc3",
   "metadata": {},
   "source": [
    "###  observations:\n",
    "- average tenure is 32 months\n",
    "- 75% customers have tenure less than 55 months\n",
    "- average montly charges are USD 64\n",
    "- 25% customers pay more than 89$ permonth"
   ]
  },
  {
   "cell_type": "code",
   "execution_count": null,
   "id": "653522be",
   "metadata": {},
   "outputs": [],
   "source": [
    "df.columns"
   ]
  },
  {
   "cell_type": "code",
   "execution_count": null,
   "id": "1667792c",
   "metadata": {},
   "outputs": [],
   "source": [
    "df['Churn'].value_counts().plot(kind='barh')\n",
    "plt.xlabel(\"Count\")\n",
    "plt.ylabel(\"Target Variable\")"
   ]
  },
  {
   "cell_type": "code",
   "execution_count": null,
   "id": "54056a2a",
   "metadata": {},
   "outputs": [],
   "source": [
    "#calculating the percent of those who churn\n",
    "100*df['Churn'].value_counts()/len(df['Churn'])"
   ]
  },
  {
   "cell_type": "markdown",
   "id": "13f9534a",
   "metadata": {},
   "source": [
    "### observations:\n",
    "- the ratio of who who churn to those who don't is 73:26\n",
    "- the data is highly imbalanced\n",
    "- we need to analyse further with other features for bettwe insights"
   ]
  },
  {
   "cell_type": "markdown",
   "id": "a6586f9b",
   "metadata": {},
   "source": [
    "# Data cleaning"
   ]
  },
  {
   "cell_type": "code",
   "execution_count": null,
   "id": "a8068b8c",
   "metadata": {},
   "outputs": [],
   "source": [
    "df1 = df.copy()"
   ]
  },
  {
   "cell_type": "code",
   "execution_count": null,
   "id": "df0961de",
   "metadata": {},
   "outputs": [],
   "source": [
    "# Converting total charges to numerical datatype\n",
    "df1.TotalCharges = pd.to_numeric(df1.TotalCharges, errors = 'coerce')\n",
    "df1.isnull().sum()"
   ]
  },
  {
   "cell_type": "code",
   "execution_count": null,
   "id": "2be04107",
   "metadata": {},
   "outputs": [],
   "source": [
    "df1['TotalCharges'].isnull().sum()"
   ]
  },
  {
   "cell_type": "code",
   "execution_count": null,
   "id": "a44697df",
   "metadata": {},
   "outputs": [],
   "source": [
    "100*(11/7043)"
   ]
  },
  {
   "cell_type": "markdown",
   "id": "85fa3942",
   "metadata": {},
   "source": [
    "since the % percent of missing values is only 0.15%, we can ignore them"
   ]
  },
  {
   "cell_type": "code",
   "execution_count": null,
   "id": "370afca6",
   "metadata": {},
   "outputs": [],
   "source": [
    "# removing the missing data\n",
    "df1.dropna(inplace=True)"
   ]
  },
  {
   "cell_type": "markdown",
   "id": "7625a9ca",
   "metadata": {},
   "source": [
    "segregating customers based on their tenure"
   ]
  },
  {
   "cell_type": "code",
   "execution_count": null,
   "id": "75725d47",
   "metadata": {},
   "outputs": [],
   "source": [
    "max_tenure = df1['tenure'].max()\n",
    "max_tenure"
   ]
  },
  {
   "cell_type": "code",
   "execution_count": null,
   "id": "ee020b9b",
   "metadata": {},
   "outputs": [],
   "source": [
    "labels = [\"{0} - {1}\".format(i, i + 11) for i in range(1, 72, 12)]\n",
    "\n",
    "df1['tenure_bins'] = pd.cut(df1.tenure, range(1, 80, 12), right=False, labels=labels)"
   ]
  },
  {
   "cell_type": "code",
   "execution_count": null,
   "id": "66c647a0",
   "metadata": {},
   "outputs": [],
   "source": [
    "df1['tenure_bins'].value_counts()"
   ]
  },
  {
   "cell_type": "code",
   "execution_count": null,
   "id": "9ee16e93",
   "metadata": {},
   "outputs": [],
   "source": [
    "df.drop(columns=['customerID','tenure'], axis=1, inplace=True)"
   ]
  },
  {
   "cell_type": "markdown",
   "id": "7721d645",
   "metadata": {},
   "source": [
    "# Data Exploration"
   ]
  },
  {
   "cell_type": "markdown",
   "id": "82273216",
   "metadata": {},
   "source": [
    "## Univariate Analysis"
   ]
  },
  {
   "cell_type": "code",
   "execution_count": null,
   "id": "9eb119d2",
   "metadata": {},
   "outputs": [],
   "source": [
    "for i, predictor in enumerate(df1.drop(columns=['customerID','tenure' ,'Churn', 'TotalCharges', 'MonthlyCharges'])):\n",
    "    plt.figure(i)\n",
    "    sns.countplot(data=df1, x=predictor, hue='Churn')\n",
    "    "
   ]
  },
  {
   "cell_type": "code",
   "execution_count": null,
   "id": "be1e898a",
   "metadata": {},
   "outputs": [],
   "source": [
    "# converting churn to a binary variable\n",
    "df1['Churn'] = np.where(df1.Churn=='Yes',1,0)"
   ]
  },
  {
   "cell_type": "code",
   "execution_count": null,
   "id": "6a6fa967",
   "metadata": {},
   "outputs": [],
   "source": [
    "df1.head()"
   ]
  },
  {
   "cell_type": "code",
   "execution_count": null,
   "id": "ae326607",
   "metadata": {},
   "outputs": [],
   "source": [
    "# converting all categorical variables to dummy varaibles\n",
    "df1 = pd.get_dummies(df1)\n",
    "df1.head()"
   ]
  },
  {
   "cell_type": "code",
   "execution_count": null,
   "id": "bf262de6",
   "metadata": {},
   "outputs": [],
   "source": [
    "sns.lmplot(data=df1, x='MonthlyCharges', y='TotalCharges')"
   ]
  },
  {
   "cell_type": "markdown",
   "id": "d080c3c8",
   "metadata": {},
   "source": [
    "### Observation:\n",
    "- total charges increase with increase in monthly charges"
   ]
  },
  {
   "cell_type": "markdown",
   "id": "99399d27",
   "metadata": {},
   "source": [
    "### realtion betwen churn, montly charges and total charges"
   ]
  },
  {
   "cell_type": "code",
   "execution_count": null,
   "id": "cef183f6",
   "metadata": {},
   "outputs": [],
   "source": [
    "fig1 = sns.kdeplot(df1.MonthlyCharges[(df1[\"Churn\"] == 0) ], fill = True)\n",
    "fig1 = sns.kdeplot(df1.MonthlyCharges[(df1[\"Churn\"] == 1) ],ax=fig1, fill= True)\n",
    "fig1.legend([\"No Churn\",\"Churn\"],loc='upper right')\n",
    "fig1.set_ylabel('Density')\n",
    "fig1.set_xlabel('Monthly Charges')\n",
    "fig1.set_title('Monthly charges by churn')\n"
   ]
  },
  {
   "cell_type": "code",
   "execution_count": null,
   "id": "002dc6e8",
   "metadata": {},
   "outputs": [],
   "source": [
    "fig2 = sns.kdeplot(df1.TotalCharges[(df1[\"Churn\"] == 0) ], fill = True)\n",
    "fig2 = sns.kdeplot(df1.TotalCharges[(df1[\"Churn\"] == 1) ],ax=fig2, fill= True)\n",
    "fig2.legend([\"No Churn\",\"Churn\"],loc='upper right')\n",
    "fig2.set_ylabel('Density')\n",
    "fig2.set_xlabel('Total Charges')\n",
    "fig2.set_title('Total charges by churn')\n"
   ]
  },
  {
   "cell_type": "markdown",
   "id": "8483ed42",
   "metadata": {},
   "source": [
    "### Observations:\n",
    "- churn incrrease with increase in monthly charges\n",
    "- churn decrease with increase in total charges\n",
    "- Low tenure, high monthly charges and lower total charges lead to high churn"
   ]
  },
  {
   "cell_type": "code",
   "execution_count": null,
   "id": "13d211b1",
   "metadata": {},
   "outputs": [],
   "source": [
    "# figsize = (20,8)\n",
    "# df1.corr()['Churn'].sort_values(ascending = False).plot(kind='bar')"
   ]
  },
  {
   "cell_type": "markdown",
   "id": "7b33d50d",
   "metadata": {},
   "source": [
    "## Bivariate analysis"
   ]
  },
  {
   "cell_type": "code",
   "execution_count": null,
   "id": "f1a9967f",
   "metadata": {},
   "outputs": [],
   "source": [
    "def uniplot(df, col, title, hue=None):\n",
    "    temp = pd.Series(data=hue)\n",
    "    fig, ax=plt.subplots()\n",
    "    plt.yscale('log')\n",
    "    plt.title(title)\n",
    "    ax = sns.countplot(data=df, x=col, order=df[col].value_counts().index)\n",
    "    plt.show()"
   ]
  },
  {
   "cell_type": "code",
   "execution_count": null,
   "id": "c05a6cbe",
   "metadata": {},
   "outputs": [],
   "source": []
  }
 ],
 "metadata": {
  "kernelspec": {
   "display_name": "Python 3 (ipykernel)",
   "language": "python",
   "name": "python3"
  },
  "language_info": {
   "codemirror_mode": {
    "name": "ipython",
    "version": 3
   },
   "file_extension": ".py",
   "mimetype": "text/x-python",
   "name": "python",
   "nbconvert_exporter": "python",
   "pygments_lexer": "ipython3",
   "version": "3.10.6"
  }
 },
 "nbformat": 4,
 "nbformat_minor": 5
}
